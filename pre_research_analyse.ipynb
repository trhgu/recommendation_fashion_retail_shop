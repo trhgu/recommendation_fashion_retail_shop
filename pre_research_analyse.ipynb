{
 "cells": [
  {
   "cell_type": "markdown",
   "metadata": {},
   "source": [
    "- 본 사전 프로젝트의 목적은 W컨셉에서 제안한 상품의 브랜드, 종류, 사용목적(남, 녀, 홈, 뷰티), 가격에 따른 소비자의 관심 여부를 구별해 내는 것에 있다."
   ]
  },
  {
   "cell_type": "code",
   "execution_count": 1,
   "metadata": {},
   "outputs": [],
   "source": [
    "# requirement\n",
    "\n",
    "import numpy as np\n",
    "import pandas as pd\n",
    "import matplotlib.pyplot as plt\n",
    "%matplotlib inline\n",
    "\n",
    "from sklearn.impute import SimpleImputer\n",
    "from sklearn.pipeline import Pipeline\n",
    "from sklearn.compose import ColumnTransformer, make_column_transformer\n",
    "from sklearn.preprocessing import StandardScaler, OneHotEncoder\n",
    "\n",
    "from sklearn.ensemble import ExtraTreesClassifier\n",
    "from sklearn.tree import DecisionTreeClassifier\n",
    "from sklearn.linear_model import LogisticRegression\n",
    "import lightgbm\n",
    "\n",
    "from sklearn.metrics import auc\n",
    "from sklearn.metrics import roc_curve\n",
    "from sklearn.model_selection import cross_val_score\n",
    "from sklearn.model_selection import KFold\n",
    "\n",
    "import warnings\n",
    "warnings.simplefilter('ignore')\n"
   ]
  },
  {
   "cell_type": "code",
   "execution_count": 2,
   "metadata": {},
   "outputs": [],
   "source": [
    "wconcept_df = pd.read_csv(\"wconcept.csv\")"
   ]
  },
  {
   "cell_type": "code",
   "execution_count": 3,
   "metadata": {},
   "outputs": [
    {
     "data": {
      "text/latex": [
       "$\\displaystyle 3791$"
      ],
      "text/plain": [
       "3791"
      ]
     },
     "execution_count": 3,
     "metadata": {},
     "output_type": "execute_result"
    }
   ],
   "source": [
    "len(wconcept_df)"
   ]
  },
  {
   "cell_type": "code",
   "execution_count": 4,
   "metadata": {},
   "outputs": [],
   "source": [
    "for i in wconcept_df.columns:\n",
    "    wconcept_df[\"{}\".format(i)] = wconcept_df[\"{}\".format(\n",
    "        i)].replace(\"\", np.nan)"
   ]
  },
  {
   "cell_type": "code",
   "execution_count": 5,
   "metadata": {},
   "outputs": [
    {
     "data": {
      "text/plain": [
       "urls                0\n",
       "malls               0\n",
       "gender              0\n",
       "products            0\n",
       "brands              0\n",
       "normal_prices    1550\n",
       "sale_prices         0\n",
       "stars               0\n",
       "make_dates         16\n",
       "dtype: int64"
      ]
     },
     "execution_count": 5,
     "metadata": {},
     "output_type": "execute_result"
    }
   ],
   "source": [
    "wconcept_df.isnull().sum()"
   ]
  },
  {
   "cell_type": "code",
   "execution_count": 6,
   "metadata": {},
   "outputs": [],
   "source": [
    "wconcept_df = wconcept_df.drop(\n",
    "    [\"urls\", \"malls\", \"normal_prices\", \"make_dates\"], axis=1)\n",
    "wconcept_df = wconcept_df.dropna(axis=0)"
   ]
  },
  {
   "cell_type": "code",
   "execution_count": 7,
   "metadata": {},
   "outputs": [
    {
     "data": {
      "text/html": [
       "<div>\n",
       "<style scoped>\n",
       "    .dataframe tbody tr th:only-of-type {\n",
       "        vertical-align: middle;\n",
       "    }\n",
       "\n",
       "    .dataframe tbody tr th {\n",
       "        vertical-align: top;\n",
       "    }\n",
       "\n",
       "    .dataframe thead th {\n",
       "        text-align: right;\n",
       "    }\n",
       "</style>\n",
       "<table border=\"1\" class=\"dataframe\">\n",
       "  <thead>\n",
       "    <tr style=\"text-align: right;\">\n",
       "      <th></th>\n",
       "      <th>gender</th>\n",
       "      <th>products</th>\n",
       "      <th>brands</th>\n",
       "      <th>sale_prices</th>\n",
       "      <th>stars</th>\n",
       "    </tr>\n",
       "  </thead>\n",
       "  <tbody>\n",
       "    <tr>\n",
       "      <td>0</td>\n",
       "      <td>LIFE</td>\n",
       "      <td>양말</td>\n",
       "      <td>POSITIVE.V</td>\n",
       "      <td>14,400</td>\n",
       "      <td>5.0</td>\n",
       "    </tr>\n",
       "    <tr>\n",
       "      <td>1</td>\n",
       "      <td>LIFE</td>\n",
       "      <td>양말</td>\n",
       "      <td>POSITIVE.V</td>\n",
       "      <td>12,800</td>\n",
       "      <td>0.0</td>\n",
       "    </tr>\n",
       "  </tbody>\n",
       "</table>\n",
       "</div>"
      ],
      "text/plain": [
       "  gender products      brands sale_prices  stars\n",
       "0   LIFE       양말  POSITIVE.V      14,400    5.0\n",
       "1   LIFE       양말  POSITIVE.V      12,800    0.0"
      ]
     },
     "execution_count": 7,
     "metadata": {},
     "output_type": "execute_result"
    }
   ],
   "source": [
    "wconcept_df.head(2)"
   ]
  },
  {
   "cell_type": "code",
   "execution_count": 8,
   "metadata": {},
   "outputs": [],
   "source": [
    "wconcept_df[\"products\"] = wconcept_df[\"products\"].replace(\"HOODIES\", \"HOODIE\")"
   ]
  },
  {
   "cell_type": "markdown",
   "metadata": {},
   "source": [
    "- 데이터 선정 (하나에 브랜드(brands) 및 하나의 종류(products) 별 50개 이상의 데이터를 가진 항목만 최종 분석에 사용하였다.)"
   ]
  },
  {
   "cell_type": "code",
   "execution_count": 9,
   "metadata": {},
   "outputs": [],
   "source": [
    "price_list = wconcept_df.sale_prices.values.tolist()"
   ]
  },
  {
   "cell_type": "markdown",
   "metadata": {},
   "source": [
    "    - 브랜드 별 50개 이하 데이터를 가진 항목(행) 삭제"
   ]
  },
  {
   "cell_type": "code",
   "execution_count": 10,
   "metadata": {},
   "outputs": [],
   "source": [
    "wconcept_df[\"count\"] = 1\n",
    "pro_b = wconcept_df.groupby([\"brands\"])[\"count\"].sum()\n",
    "pro_b = pro_b.sort_values(ascending=False)"
   ]
  },
  {
   "cell_type": "code",
   "execution_count": 11,
   "metadata": {},
   "outputs": [],
   "source": [
    "delete_brand = []\n",
    "for i in range(0, len(pro_b)):\n",
    "    if pro_b[i] < 50:\n",
    "        brand = pro_b.index[i]\n",
    "        delete_brand.append(brand)"
   ]
  },
  {
   "cell_type": "code",
   "execution_count": 12,
   "metadata": {},
   "outputs": [],
   "source": [
    "for word in delete_brand:\n",
    "    wconcept_df[\"brands\"] = wconcept_df[\"brands\"].replace(\n",
    "        \"{}\".format(word), np.nan)\n",
    "wconcept_df = wconcept_df.dropna(axis=0)"
   ]
  },
  {
   "cell_type": "markdown",
   "metadata": {},
   "source": [
    "    - 종류 별 50개 이하 데이터를 가진 항목(행) 삭제"
   ]
  },
  {
   "cell_type": "code",
   "execution_count": 13,
   "metadata": {},
   "outputs": [],
   "source": [
    "pro_p = wconcept_df.groupby([\"products\"])[\"count\"].sum()\n",
    "pro_p = pro_b.sort_values(ascending=False)"
   ]
  },
  {
   "cell_type": "code",
   "execution_count": 14,
   "metadata": {},
   "outputs": [],
   "source": [
    "delete_product = []\n",
    "for i in range(0, len(pro_b)):\n",
    "    if pro_b[i] < 50:\n",
    "        product = pro_b.index[i]\n",
    "        delete_product.append(product)"
   ]
  },
  {
   "cell_type": "code",
   "execution_count": 15,
   "metadata": {},
   "outputs": [],
   "source": [
    "for word in delete_product:\n",
    "    wconcept_df[\"products\"] = wconcept_df[\"products\"].replace(\n",
    "        \"{}\".format(word), np.nan)\n",
    "wconcept_df = wconcept_df.dropna(axis=0)"
   ]
  },
  {
   "cell_type": "code",
   "execution_count": 16,
   "metadata": {},
   "outputs": [
    {
     "data": {
      "text/html": [
       "<div>\n",
       "<style scoped>\n",
       "    .dataframe tbody tr th:only-of-type {\n",
       "        vertical-align: middle;\n",
       "    }\n",
       "\n",
       "    .dataframe tbody tr th {\n",
       "        vertical-align: top;\n",
       "    }\n",
       "\n",
       "    .dataframe thead th {\n",
       "        text-align: right;\n",
       "    }\n",
       "</style>\n",
       "<table border=\"1\" class=\"dataframe\">\n",
       "  <thead>\n",
       "    <tr style=\"text-align: right;\">\n",
       "      <th></th>\n",
       "      <th>gender</th>\n",
       "      <th>products</th>\n",
       "      <th>brands</th>\n",
       "      <th>sale_prices</th>\n",
       "      <th>stars</th>\n",
       "      <th>count</th>\n",
       "    </tr>\n",
       "  </thead>\n",
       "  <tbody>\n",
       "    <tr>\n",
       "      <td>0</td>\n",
       "      <td>LIFE</td>\n",
       "      <td>양말</td>\n",
       "      <td>POSITIVE.V</td>\n",
       "      <td>14,400</td>\n",
       "      <td>5.0</td>\n",
       "      <td>1</td>\n",
       "    </tr>\n",
       "    <tr>\n",
       "      <td>1</td>\n",
       "      <td>LIFE</td>\n",
       "      <td>양말</td>\n",
       "      <td>POSITIVE.V</td>\n",
       "      <td>12,800</td>\n",
       "      <td>0.0</td>\n",
       "      <td>1</td>\n",
       "    </tr>\n",
       "    <tr>\n",
       "      <td>2</td>\n",
       "      <td>LIFE</td>\n",
       "      <td>양말</td>\n",
       "      <td>POSITIVE.V</td>\n",
       "      <td>8,900</td>\n",
       "      <td>0.0</td>\n",
       "      <td>1</td>\n",
       "    </tr>\n",
       "  </tbody>\n",
       "</table>\n",
       "</div>"
      ],
      "text/plain": [
       "  gender products      brands sale_prices  stars  count\n",
       "0   LIFE       양말  POSITIVE.V      14,400    5.0      1\n",
       "1   LIFE       양말  POSITIVE.V      12,800    0.0      1\n",
       "2   LIFE       양말  POSITIVE.V       8,900    0.0      1"
      ]
     },
     "execution_count": 16,
     "metadata": {},
     "output_type": "execute_result"
    }
   ],
   "source": [
    "wconcept_df.head(3)"
   ]
  },
  {
   "cell_type": "markdown",
   "metadata": {},
   "source": [
    "- 라벨링(별점 4.0 이상인 상품을 추천 상품으로 선정하였다)"
   ]
  },
  {
   "cell_type": "code",
   "execution_count": 17,
   "metadata": {},
   "outputs": [],
   "source": [
    "wconcept_df[\"stars\"] = wconcept_df[\"stars\"].apply(lambda x: float(x))\n",
    "wconcept_df[\"stars\"] = wconcept_df[\"stars\"].apply(lambda x: 1 if x >= 4 else 0)"
   ]
  },
  {
   "cell_type": "code",
   "execution_count": 18,
   "metadata": {},
   "outputs": [
    {
     "name": "stdout",
     "output_type": "stream",
     "text": [
      "별점(0 : 4.0 미만/ 1: 4.0 이상) \n",
      " stars\n",
      "0    1955\n",
      "1    1063\n",
      "Name: count, dtype: int64\n"
     ]
    }
   ],
   "source": [
    "pro_s = wconcept_df.groupby([\"stars\"])[\"count\"].sum()\n",
    "pro_s = pro_s.sort_values(ascending=False)\n",
    "print(\"별점(0 : 4.0 미만/ 1: 4.0 이상) \\n\", pro_s)"
   ]
  },
  {
   "cell_type": "markdown",
   "metadata": {},
   "source": [
    "- 머신러닝 알고리즘을 활용한 분류문제 풀이"
   ]
  },
  {
   "cell_type": "code",
   "execution_count": 19,
   "metadata": {},
   "outputs": [],
   "source": [
    "wconcept_df[\"sale_prices\"] = wconcept_df[\"sale_prices\"].str.replace(\n",
    "    \",\", \"\").astype(\"int\")"
   ]
  },
  {
   "cell_type": "code",
   "execution_count": 20,
   "metadata": {},
   "outputs": [],
   "source": [
    "X = wconcept_df[['gender', 'products', 'brands', 'sale_prices']]"
   ]
  },
  {
   "cell_type": "code",
   "execution_count": 21,
   "metadata": {},
   "outputs": [],
   "source": [
    "y = wconcept_df[\"stars\"]"
   ]
  },
  {
   "cell_type": "markdown",
   "metadata": {},
   "source": [
    "    - 데이터 전처리 모델"
   ]
  },
  {
   "cell_type": "code",
   "execution_count": 22,
   "metadata": {},
   "outputs": [],
   "source": [
    "numeric_features = ['sale_prices']\n",
    "numeric_transformer = Pipeline(steps=[\n",
    "    ('imputer', SimpleImputer(strategy='median')),\n",
    "    ('scaler', StandardScaler())])\n",
    "\n",
    "categorical_features = ['gender', 'products', 'brands']\n",
    "categorical_transformer = Pipeline(steps=[\n",
    "    ('imputer', SimpleImputer(strategy='constant', fill_value='missing')),\n",
    "    ('onehot', OneHotEncoder(handle_unknown='ignore'))])\n",
    "\n",
    "preprocessor = ColumnTransformer(\n",
    "    transformers=[\n",
    "        ('num', numeric_transformer, numeric_features),\n",
    "        ('cat', categorical_transformer, categorical_features)])"
   ]
  },
  {
   "cell_type": "markdown",
   "metadata": {},
   "source": [
    "     - 모델 핏팅 및 신뢰도 검증"
   ]
  },
  {
   "cell_type": "markdown",
   "metadata": {},
   "source": [
    "        - logistic regression"
   ]
  },
  {
   "cell_type": "code",
   "execution_count": 23,
   "metadata": {},
   "outputs": [],
   "source": [
    "clf_rogit = Pipeline(steps=[('preprocessor', preprocessor),\n",
    "                            ('classifier', LogisticRegression())])"
   ]
  },
  {
   "cell_type": "code",
   "execution_count": 24,
   "metadata": {
    "scrolled": true
   },
   "outputs": [
    {
     "data": {
      "text/latex": [
       "$\\displaystyle 0.7813081392156217$"
      ],
      "text/plain": [
       "0.7813081392156217"
      ]
     },
     "execution_count": 24,
     "metadata": {},
     "output_type": "execute_result"
    }
   ],
   "source": [
    "model_rogit = clf_rogit.fit(X, y)\n",
    "cv = KFold(5, shuffle=True, random_state=0)\n",
    "check_rogit = cross_val_score(\n",
    "    model_rogit, X, y, scoring=\"accuracy\", cv=cv).mean()\n",
    "check_rogit"
   ]
  },
  {
   "cell_type": "markdown",
   "metadata": {},
   "source": [
    "        - decesion tree"
   ]
  },
  {
   "cell_type": "code",
   "execution_count": 25,
   "metadata": {},
   "outputs": [],
   "source": [
    "check_tree = []\n",
    "for num in range(1, 30):\n",
    "    clf_tree = Pipeline(steps=[('preprocessor', preprocessor),\n",
    "                               ('classifier', DecisionTreeClassifier(max_depth=num, random_state=0))])\n",
    "    model_tree = clf_tree.fit(X, y)\n",
    "    cv = KFold(5, shuffle=True, random_state=0)\n",
    "    check = cross_val_score(model_tree, X, y, scoring=\"accuracy\", cv=cv).mean()\n",
    "    check_tree.append(check)\n",
    "    \n",
    "check_ran = []\n",
    "for num in range(1, 300, 10):\n",
    "    clf_ran = Pipeline(steps=[('preprocessor', preprocessor),\n",
    "                              ('classifier', ExtraTreesClassifier(n_estimators=num, random_state=0))])\n",
    "    model_ran = clf_ran.fit(X, y)\n",
    "    cv = KFold(5, shuffle=True, random_state=0)\n",
    "    check = cross_val_score(model_ran, X, y, scoring=\"accuracy\", cv=cv).mean()\n",
    "    check_ran.append(check)\n",
    "    \n",
    "check_boo = []\n",
    "for num in range(1, 30):\n",
    "    clf_boo = Pipeline(steps=[('preprocessor', preprocessor),\n",
    "                              ('classifier', lightgbm.LGBMClassifier(n_estimators=100, max_depth=num, random_state=0))])\n",
    "    model_boo = clf_boo.fit(X, y)\n",
    "    cv = KFold(5, shuffle=True, random_state=0)\n",
    "    check = cross_val_score(model_boo, X, y, scoring=\"accuracy\", cv=cv).mean()\n",
    "    check_boo.append(check)"
   ]
  },
  {
   "cell_type": "code",
   "execution_count": 61,
   "metadata": {},
   "outputs": [
    {
     "data": {
      "text/plain": [
       "<function matplotlib.pyplot.show(*args, **kw)>"
      ]
     },
     "execution_count": 61,
     "metadata": {},
     "output_type": "execute_result"
    },
    {
     "data": {
      "image/png": "[encoded data removed]",
      "text/plain": [
       "<Figure size 504x1080 with 3 Axes>"
      ]
     },
     "metadata": {
      "needs_background": "light"
     },
     "output_type": "display_data"
    }
   ],
   "source": [
    "plt.figure(figsize=(7, 15))\n",
    "plt.subplot(311)\n",
    "plt.title(\"cross validity by depth(decision tree)\")\n",
    "plt.plot(range(1, 30), check_tree, \"o-\")\n",
    "plt.plot(check_tree.index(max(check_tree))+1, max(check_tree), 'ro', ms=10)\n",
    "plt.text(check_tree.index(max(check_tree))+1, max(check_tree)+0.009, \"({}, {})\".format(\n",
    "    check_tree.index(max(check_tree))+1, round(max(check_tree), 3)), fontdict={\"size\": 13, \"color\": \"r\"})\n",
    "plt.ylim(0.624,0.8)\n",
    "\n",
    "plt.subplot(312)\n",
    "plt.title(\"cross validity by estimator(random forest)\")\n",
    "plt.plot(range(1, 300, 10), check_ran, \"o-\")\n",
    "plt.plot(10, max(check_ran), 'ro', ms=10)\n",
    "plt.text(10, max(check_ran)+0.001, \"({}, {})\".format(\n",
    "    10, round(max(check_ran), 3)), fontdict={\"size\": 13, \"color\": \"r\"})\n",
    "plt.ylim(0.755,0.770)\n",
    "\n",
    "plt.subplot(313)\n",
    "plt.title(\"cross validity by depth(gradient boost)\")\n",
    "plt.plot(range(1, 30), check_boo, \"o-\")\n",
    "plt.plot(check_boo.index(max(check_boo))+1, max(check_boo), 'ro', ms=10)\n",
    "plt.text(check_boo.index(max(check_boo))+1, max(check_boo)+0.001, \"({}, {})\".format(\n",
    "    check_boo.index(max(check_boo))+1, round(max(check_boo), 3)), fontdict={\"size\": 13, \"color\": \"r\"})\n",
    "plt.ylim(0.74,0.8)\n",
    "plt.show"
   ]
  },
  {
   "cell_type": "markdown",
   "metadata": {},
   "source": [
    "    - 최종 모형 제안"
   ]
  },
  {
   "cell_type": "code",
   "execution_count": 62,
   "metadata": {},
   "outputs": [],
   "source": [
    "clf = Pipeline(steps=[('preprocessor', preprocessor),\n",
    "                      ('classifier', lightgbm.LGBMClassifier(n_estimators=100, max_depth=9, random_state=0))])"
   ]
  },
  {
   "cell_type": "code",
   "execution_count": 63,
   "metadata": {},
   "outputs": [],
   "source": [
    "model_final = clf.fit(X, y)"
   ]
  },
  {
   "cell_type": "code",
   "execution_count": 64,
   "metadata": {},
   "outputs": [
    {
     "data": {
      "text/latex": [
       "$\\displaystyle 0.7925768508451122$"
      ],
      "text/plain": [
       "0.7925768508451122"
      ]
     },
     "execution_count": 64,
     "metadata": {},
     "output_type": "execute_result"
    }
   ],
   "source": [
    "model_final = clf.fit(X, y)\n",
    "cv = KFold(5, shuffle=True, random_state=0)\n",
    "check = cross_val_score(model_final, X, y, scoring=\"accuracy\", cv=cv).mean()\n",
    "check"
   ]
  },
  {
   "cell_type": "code",
   "execution_count": 65,
   "metadata": {},
   "outputs": [],
   "source": [
    "fpr, tpr, thresholds = roc_curve(y, model_final.predict_proba(X)[:, 1])"
   ]
  },
  {
   "cell_type": "code",
   "execution_count": 90,
   "metadata": {},
   "outputs": [
    {
     "data": {
      "image/png": "[encoded data removed]",
      "text/plain": [
       "<Figure size 504x360 with 1 Axes>"
      ]
     },
     "metadata": {
      "needs_background": "light"
     },
     "output_type": "display_data"
    }
   ],
   "source": [
    "plt.figure(figsize=(7, 5))\n",
    "plt.plot(fpr, tpr, 'o-')\n",
    "plt.plot([0, 1], [0, 1], 'k--', label=\"random guess\")\n",
    "plt.xlabel('Fall-Out')\n",
    "plt.ylabel('Recall')\n",
    "plt.title('Receiver operating characteristic example')\n",
    "plt.show()"
   ]
  },
  {
   "cell_type": "code",
   "execution_count": 67,
   "metadata": {},
   "outputs": [
    {
     "data": {
      "text/latex": [
       "$\\displaystyle 0.8960518053186345$"
      ],
      "text/plain": [
       "0.8960518053186345"
      ]
     },
     "execution_count": 67,
     "metadata": {},
     "output_type": "execute_result"
    }
   ],
   "source": [
    "auc(fpr, tpr)"
   ]
  },
  {
   "cell_type": "markdown",
   "metadata": {},
   "source": [
    "    - 특성 중요도"
   ]
  },
  {
   "cell_type": "code",
   "execution_count": 70,
   "metadata": {},
   "outputs": [],
   "source": [
    "def prepeoces_extratree(wconcept_df):\n",
    "    X_category = wconcept_df.iloc[:, 0:3]\n",
    "    X_numeric = wconcept_df.iloc[:, 3:4]\n",
    "    enc = OneHotEncoder(handle_unknown='ignore')\n",
    "    stan = StandardScaler()\n",
    "    X_enc = enc.fit(X_category)\n",
    "    X_stan = stan.fit(X_numeric)\n",
    "    X_dummy = X_enc.transform(X_category).toarray()\n",
    "    X_standard = X_stan.transform(X_numeric)\n",
    "    X2 = np.hstack([X_dummy, X_standard])\n",
    "    y2 = np.array(wconcept_df.iloc[:, -2:-1])\n",
    "    y2 = y2.reshape(1, len(y))\n",
    "    y2 = y2[0]\n",
    "    return X2, y2, X_enc, X_stan"
   ]
  },
  {
   "cell_type": "code",
   "execution_count": 71,
   "metadata": {},
   "outputs": [],
   "source": [
    "X2, y2, X_enc, X_stan = prepeoces_extratree(wconcept_df)"
   ]
  },
  {
   "cell_type": "code",
   "execution_count": 72,
   "metadata": {},
   "outputs": [],
   "source": [
    "forest = ExtraTreesClassifier(n_estimators=10, random_state=0)\n",
    "forest.fit(X2, y2)\n",
    "importances = forest.feature_importances_"
   ]
  },
  {
   "cell_type": "code",
   "execution_count": 73,
   "metadata": {},
   "outputs": [],
   "source": [
    "X_dummy_name = X_enc.categories_\n",
    "X_standard_name = np.array(\"sale_prices\")"
   ]
  },
  {
   "cell_type": "code",
   "execution_count": 74,
   "metadata": {},
   "outputs": [],
   "source": [
    "X_name = np.hstack([X_dummy_name[0], X_dummy_name[1],\n",
    "                    X_dummy_name[2], X_standard_name])"
   ]
  },
  {
   "cell_type": "code",
   "execution_count": 75,
   "metadata": {},
   "outputs": [],
   "source": [
    "idx = np.argsort(importances)"
   ]
  },
  {
   "cell_type": "code",
   "execution_count": 79,
   "metadata": {},
   "outputs": [
    {
     "data": {
      "image/png": "[encoded data removed]",
      "text/plain": [
       "<Figure size 504x360 with 1 Axes>"
      ]
     },
     "metadata": {
      "needs_background": "light"
     },
     "output_type": "display_data"
    }
   ],
   "source": [
    "plt.figure(figsize=(7, 5))\n",
    "plt.barh(X_name[idx][-10:], importances[idx][-10:])\n",
    "plt.show()"
   ]
  },
  {
   "cell_type": "markdown",
   "metadata": {},
   "source": [
    "### test"
   ]
  },
  {
   "cell_type": "code",
   "execution_count": 80,
   "metadata": {},
   "outputs": [
    {
     "data": {
      "text/plain": [
       "[array(['BEAUTY', 'LIFE', 'MEN', 'WOMEN'], dtype=object),\n",
       " array(['ANKLE BOOTS', 'ANKLETS', 'ATHLETICS', 'BACKPACK', 'BAGGY',\n",
       "        'BALL CAP', 'BEANIE', 'BEANIE / BOMBER', 'BELT', 'BERET', 'BLAZER',\n",
       "        'BLOUSE', 'BOOTCUT', 'BOY FRIEND', 'BRACELETS', 'BROOCH/PENDANT',\n",
       "        'BUKET', 'Bottom', 'CAP', 'CARD CASE', 'CARDIGAN', 'CASHMERE',\n",
       "        'CHINO', 'CLUTCH', 'CLUTCHES', 'COAT', 'CROPPED', 'CROSS BAG',\n",
       "        'DENIM', 'EARRINGS', 'ECOBAG', 'FABRIC WATCH', 'FASHION ACC',\n",
       "        'FLARE', 'FLIP-FLOP', 'GLOVES', 'GRAPHIC TEE', 'HAIR ACC',\n",
       "        'HIGHTOP', 'HOODIE', 'JACKET', 'JEWERLY', 'JUMPER', 'JUMPERS',\n",
       "        'JUMPSUIT', 'KEY RING', 'LACE-UP', 'LEATHER', 'LEATHER JACKET',\n",
       "        'LEATHER WATCH', 'LEGGINGS', 'LONG SKIRT', 'LONG-SLEEVE SHIRTS',\n",
       "        'LONG-SLEEVE TEE', 'LOWTOP', 'MAXIS', 'MESSENGER',\n",
       "        'METALLIC WATCH', 'MIDDLE-LENGTH SKIRT', 'MINI SKIRT', 'MINIS',\n",
       "        'MUFFLERS', 'NECKLACE', 'PADDING', 'PEDORA / BERET', 'POUCH',\n",
       "        'PULLOVER', 'RINGS', 'ROBE', 'SCARVES', 'SCARVES / MUFFLER', 'SET',\n",
       "        'SHIRTS', 'SHORT-SLEEVE SHIRTS', 'SHORT-SLEEVE TEE', 'SHORTS',\n",
       "        'SHOULDER', 'SHOULDER BAG', 'SKINNY', 'SLACKS', 'SLEEVELESS',\n",
       "        'SLEEVELESS TEE', 'SLIPPERS/MULES', 'SNEAKERS', 'STRAIGHT',\n",
       "        'SWEATPANTS', 'TIE', 'TOPS', 'TOTE', 'TOTE BAG', 'TURTLE-NECK',\n",
       "        'TURTLENECK', 'VEST', 'WALLET', 'WIDE LEG', '메이크업', '뷰티 TOOL',\n",
       "        '상의', '샴푸/린스', '선케어', '쉐이빙/클렌져', '스킨케어', '애플 케이스', '양말',\n",
       "        '에이프런 / 오븐장갑', '염색/파마', '왁스/스프레이', '요가 /필라테스 웨어', '워시/스크럽', '키친소품',\n",
       "        '트리트먼트/헤어팩', '펜 / 필통', '헤어/바디', '헤어에센스/오일/미스트'], dtype=object),\n",
       " array(['AGENDER', 'AKTEO', 'ARCO', 'B.FRAME', 'BELIER', 'BROWNBREATH',\n",
       "        'COLLABOTORY', 'DASHU', 'DEVIWEAR', 'ESFAI', 'FAVV', 'FEIYUE',\n",
       "        'FUNEATHER', 'FUZA', 'GREGORY', 'HOMFEM', 'INSTANTFUNK', 'KOLOK',\n",
       "        \"LEVI'S\", 'LUMINOX', 'LWL', 'MADGOAT', 'MMIC', 'MUNN', 'NAR',\n",
       "        'NIKE', 'PARACIA', 'POSITIVE.V', 'POSTLUDE', 'SELFISH', 'SSQR',\n",
       "        'STAFFONLY', 'SWSW', 'UNCOS ', 'VERYNINEFLUX', 'XPERIMNT', 'XYZ'],\n",
       "       dtype=object)]"
      ]
     },
     "execution_count": 80,
     "metadata": {},
     "output_type": "execute_result"
    }
   ],
   "source": [
    "X_enc.categories_"
   ]
  },
  {
   "cell_type": "code",
   "execution_count": 81,
   "metadata": {},
   "outputs": [
    {
     "data": {
      "text/html": [
       "<div>\n",
       "<style scoped>\n",
       "    .dataframe tbody tr th:only-of-type {\n",
       "        vertical-align: middle;\n",
       "    }\n",
       "\n",
       "    .dataframe tbody tr th {\n",
       "        vertical-align: top;\n",
       "    }\n",
       "\n",
       "    .dataframe thead th {\n",
       "        text-align: right;\n",
       "    }\n",
       "</style>\n",
       "<table border=\"1\" class=\"dataframe\">\n",
       "  <thead>\n",
       "    <tr style=\"text-align: right;\">\n",
       "      <th></th>\n",
       "      <th>gender</th>\n",
       "      <th>products</th>\n",
       "      <th>brands</th>\n",
       "      <th>sale_prices</th>\n",
       "      <th>stars</th>\n",
       "      <th>count</th>\n",
       "    </tr>\n",
       "  </thead>\n",
       "  <tbody>\n",
       "    <tr>\n",
       "      <td>0</td>\n",
       "      <td>LIFE</td>\n",
       "      <td>양말</td>\n",
       "      <td>POSITIVE.V</td>\n",
       "      <td>14400</td>\n",
       "      <td>1</td>\n",
       "      <td>1</td>\n",
       "    </tr>\n",
       "  </tbody>\n",
       "</table>\n",
       "</div>"
      ],
      "text/plain": [
       "  gender products      brands  sale_prices  stars  count\n",
       "0   LIFE       양말  POSITIVE.V        14400      1      1"
      ]
     },
     "execution_count": 81,
     "metadata": {},
     "output_type": "execute_result"
    }
   ],
   "source": [
    "wconcept_df.head(1)"
   ]
  },
  {
   "cell_type": "code",
   "execution_count": 82,
   "metadata": {},
   "outputs": [
    {
     "data": {
      "text/html": [
       "<div>\n",
       "<style scoped>\n",
       "    .dataframe tbody tr th:only-of-type {\n",
       "        vertical-align: middle;\n",
       "    }\n",
       "\n",
       "    .dataframe tbody tr th {\n",
       "        vertical-align: top;\n",
       "    }\n",
       "\n",
       "    .dataframe thead th {\n",
       "        text-align: right;\n",
       "    }\n",
       "</style>\n",
       "<table border=\"1\" class=\"dataframe\">\n",
       "  <thead>\n",
       "    <tr style=\"text-align: right;\">\n",
       "      <th></th>\n",
       "      <th>gender</th>\n",
       "      <th>products</th>\n",
       "      <th>brands</th>\n",
       "      <th>sale_prices</th>\n",
       "    </tr>\n",
       "  </thead>\n",
       "  <tbody>\n",
       "    <tr>\n",
       "      <td>0</td>\n",
       "      <td>LIFE</td>\n",
       "      <td>양말</td>\n",
       "      <td>POSITIVE.V</td>\n",
       "      <td>14400</td>\n",
       "    </tr>\n",
       "    <tr>\n",
       "      <td>1</td>\n",
       "      <td>LIFE</td>\n",
       "      <td>양말</td>\n",
       "      <td>POSITIVE.V</td>\n",
       "      <td>12800</td>\n",
       "    </tr>\n",
       "    <tr>\n",
       "      <td>2</td>\n",
       "      <td>LIFE</td>\n",
       "      <td>양말</td>\n",
       "      <td>POSITIVE.V</td>\n",
       "      <td>8900</td>\n",
       "    </tr>\n",
       "    <tr>\n",
       "      <td>3</td>\n",
       "      <td>LIFE</td>\n",
       "      <td>양말</td>\n",
       "      <td>POSITIVE.V</td>\n",
       "      <td>12800</td>\n",
       "    </tr>\n",
       "    <tr>\n",
       "      <td>4</td>\n",
       "      <td>LIFE</td>\n",
       "      <td>양말</td>\n",
       "      <td>POSITIVE.V</td>\n",
       "      <td>12800</td>\n",
       "    </tr>\n",
       "    <tr>\n",
       "      <td>...</td>\n",
       "      <td>...</td>\n",
       "      <td>...</td>\n",
       "      <td>...</td>\n",
       "      <td>...</td>\n",
       "    </tr>\n",
       "    <tr>\n",
       "      <td>3786</td>\n",
       "      <td>MEN</td>\n",
       "      <td>LOWTOP</td>\n",
       "      <td>FEIYUE</td>\n",
       "      <td>29000</td>\n",
       "    </tr>\n",
       "    <tr>\n",
       "      <td>3787</td>\n",
       "      <td>MEN</td>\n",
       "      <td>LOWTOP</td>\n",
       "      <td>FEIYUE</td>\n",
       "      <td>59000</td>\n",
       "    </tr>\n",
       "    <tr>\n",
       "      <td>3788</td>\n",
       "      <td>MEN</td>\n",
       "      <td>LOWTOP</td>\n",
       "      <td>FEIYUE</td>\n",
       "      <td>39000</td>\n",
       "    </tr>\n",
       "    <tr>\n",
       "      <td>3789</td>\n",
       "      <td>MEN</td>\n",
       "      <td>LOWTOP</td>\n",
       "      <td>FEIYUE</td>\n",
       "      <td>79000</td>\n",
       "    </tr>\n",
       "    <tr>\n",
       "      <td>3790</td>\n",
       "      <td>MEN</td>\n",
       "      <td>LOWTOP</td>\n",
       "      <td>FEIYUE</td>\n",
       "      <td>39000</td>\n",
       "    </tr>\n",
       "  </tbody>\n",
       "</table>\n",
       "<p>3018 rows × 4 columns</p>\n",
       "</div>"
      ],
      "text/plain": [
       "     gender products      brands  sale_prices\n",
       "0      LIFE       양말  POSITIVE.V        14400\n",
       "1      LIFE       양말  POSITIVE.V        12800\n",
       "2      LIFE       양말  POSITIVE.V         8900\n",
       "3      LIFE       양말  POSITIVE.V        12800\n",
       "4      LIFE       양말  POSITIVE.V        12800\n",
       "...     ...      ...         ...          ...\n",
       "3786    MEN   LOWTOP      FEIYUE        29000\n",
       "3787    MEN   LOWTOP      FEIYUE        59000\n",
       "3788    MEN   LOWTOP      FEIYUE        39000\n",
       "3789    MEN   LOWTOP      FEIYUE        79000\n",
       "3790    MEN   LOWTOP      FEIYUE        39000\n",
       "\n",
       "[3018 rows x 4 columns]"
      ]
     },
     "execution_count": 82,
     "metadata": {},
     "output_type": "execute_result"
    }
   ],
   "source": [
    "X"
   ]
  },
  {
   "cell_type": "code",
   "execution_count": 83,
   "metadata": {},
   "outputs": [
    {
     "data": {
      "text/plain": [
       "array([0, 0, 0, ..., 0, 0, 0])"
      ]
     },
     "execution_count": 83,
     "metadata": {},
     "output_type": "execute_result"
    }
   ],
   "source": [
    "model_final.predict(X)"
   ]
  },
  {
   "cell_type": "code",
   "execution_count": 84,
   "metadata": {},
   "outputs": [],
   "source": [
    "test = [{\"gender\": \"MEN\", \"products\": \"CAP\",\n",
    "         \"brands\": \"DEVIWEAR\", \"sale_prices\": \"40000\"}]\n",
    "test = pd.DataFrame(test)"
   ]
  },
  {
   "cell_type": "code",
   "execution_count": 85,
   "metadata": {},
   "outputs": [
    {
     "data": {
      "text/html": [
       "<div>\n",
       "<style scoped>\n",
       "    .dataframe tbody tr th:only-of-type {\n",
       "        vertical-align: middle;\n",
       "    }\n",
       "\n",
       "    .dataframe tbody tr th {\n",
       "        vertical-align: top;\n",
       "    }\n",
       "\n",
       "    .dataframe thead th {\n",
       "        text-align: right;\n",
       "    }\n",
       "</style>\n",
       "<table border=\"1\" class=\"dataframe\">\n",
       "  <thead>\n",
       "    <tr style=\"text-align: right;\">\n",
       "      <th></th>\n",
       "      <th>gender</th>\n",
       "      <th>products</th>\n",
       "      <th>brands</th>\n",
       "      <th>sale_prices</th>\n",
       "    </tr>\n",
       "  </thead>\n",
       "  <tbody>\n",
       "    <tr>\n",
       "      <td>0</td>\n",
       "      <td>MEN</td>\n",
       "      <td>CAP</td>\n",
       "      <td>DEVIWEAR</td>\n",
       "      <td>40000</td>\n",
       "    </tr>\n",
       "  </tbody>\n",
       "</table>\n",
       "</div>"
      ],
      "text/plain": [
       "  gender products    brands sale_prices\n",
       "0    MEN      CAP  DEVIWEAR       40000"
      ]
     },
     "execution_count": 85,
     "metadata": {},
     "output_type": "execute_result"
    }
   ],
   "source": [
    "test"
   ]
  },
  {
   "cell_type": "code",
   "execution_count": 86,
   "metadata": {},
   "outputs": [
    {
     "data": {
      "text/plain": [
       "array([0])"
      ]
     },
     "execution_count": 86,
     "metadata": {},
     "output_type": "execute_result"
    }
   ],
   "source": [
    "model_final.predict(test)"
   ]
  }
 ],
 "metadata": {
  "kernelspec": {
   "display_name": "Python 3",
   "language": "python",
   "name": "python3"
  },
  "language_info": {
   "codemirror_mode": {
    "name": "ipython",
    "version": 3
   },
   "file_extension": ".py",
   "mimetype": "text/x-python",
   "name": "python",
   "nbconvert_exporter": "python",
   "pygments_lexer": "ipython3",
   "version": "3.7.4"
  }
 },
 "nbformat": 4,
 "nbformat_minor": 4
}
